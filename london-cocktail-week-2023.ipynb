{
 "cells": [
  {
   "cell_type": "markdown",
   "id": "a16e3a14-110e-4ade-b78e-217613e8ddcb",
   "metadata": {},
   "source": [
    "# London Cocktail Week 2023\n",
    "London Cocktail Week is the world’s original Cocktail Week (launched way back in 2010), and takes place in the cocktail capital of the world. It is one of the most exciting ways to discover the London bar scene.\n",
    "\n",
    "## Why The Notebook?\n",
    "While the London Cocktail Week website does have the ability to search bars by location, spirit, and name, I like to have a bit more information, and make it easier to search the individual cocktails to meet my needs. This notebook aims to scrape the website for the relevant data, search for the best ingredients, and plot on a map the bars I'd like to visit."
   ]
  },
  {
   "cell_type": "code",
   "execution_count": 2,
   "id": "82a908da-d2ee-4eb2-a131-4651caeb477a",
   "metadata": {},
   "outputs": [
    {
     "name": "stdout",
     "output_type": "stream",
     "text": [
      "Welcome to London Cocktail Week\n"
     ]
    }
   ],
   "source": [
    "print('Welcome to London Cocktail Week')"
   ]
  }
 ],
 "metadata": {
  "kernelspec": {
   "display_name": "Python 3 (ipykernel)",
   "language": "python",
   "name": "python3"
  },
  "language_info": {
   "codemirror_mode": {
    "name": "ipython",
    "version": 3
   },
   "file_extension": ".py",
   "mimetype": "text/x-python",
   "name": "python",
   "nbconvert_exporter": "python",
   "pygments_lexer": "ipython3",
   "version": "3.11.6"
  }
 },
 "nbformat": 4,
 "nbformat_minor": 5
}
