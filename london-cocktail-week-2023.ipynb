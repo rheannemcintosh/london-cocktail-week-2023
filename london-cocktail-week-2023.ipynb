{
 "cells": [
  {
   "cell_type": "markdown",
   "id": "a16e3a14-110e-4ade-b78e-217613e8ddcb",
   "metadata": {},
   "source": [
    "# London Cocktail Week 2023\n",
    "London Cocktail Week is the world’s original Cocktail Week (launched way back in 2010), and takes place in the cocktail capital of the world. It is one of the most exciting ways to discover the London bar scene.\n",
    "\n",
    "## Why The Notebook?\n",
    "While the London Cocktail Week website does have the ability to search bars by location, spirit, and name, I like to have a bit more information, and make it easier to search the individual cocktails to meet my needs. This notebook aims to scrape the website for the relevant data, search for the best ingredients, and plot on a map the bars I'd like to visit."
   ]
  },
  {
   "cell_type": "code",
   "execution_count": 1,
   "id": "82a908da-d2ee-4eb2-a131-4651caeb477a",
   "metadata": {},
   "outputs": [
    {
     "name": "stdout",
     "output_type": "stream",
     "text": [
      "Welcome to London Cocktail Week\n"
     ]
    }
   ],
   "source": [
    "print('Welcome to London Cocktail Week')"
   ]
  },
  {
   "cell_type": "code",
   "execution_count": 2,
   "id": "3a67ca03-8880-488e-8a07-8143f2ab404c",
   "metadata": {},
   "outputs": [],
   "source": [
    "# Import Statements\n",
    "from bs4 import BeautifulSoup\n",
    "import pandas as pd\n",
    "import requests\n",
    "from datetime import datetime"
   ]
  },
  {
   "cell_type": "code",
   "execution_count": 4,
   "id": "616ba1b8-d994-4a21-8682-e8d358139fee",
   "metadata": {},
   "outputs": [],
   "source": [
    "# Create the Data Frame with Columns\n",
    "df = pd.DataFrame(columns=[\n",
    "    'Bar Name',\n",
    "    'Address',\n",
    "    'Phone Number',\n",
    "    'Description',\n",
    "    'Monday',\n",
    "    'Tuesday',\n",
    "    'Wednesday',\n",
    "    'Thursday',\n",
    "    'Friday',\n",
    "    'Saturday',\n",
    "    'Sunday'\n",
    "])\n",
    "\n",
    "# Get the Request from the URL\n",
    "request = requests.get(\n",
    "    'https://londoncocktailweek.com/bars/print/?collectionId=0&whatId=0&areaId=0&spiritId=0&openNow=0&search='\n",
    ")\n",
    "\n",
    "# Parse the request using Beautiful Soup\n",
    "soup = BeautifulSoup(request.text, 'html.parser')\n",
    "\n",
    "# Find all the bar list items\n",
    "bar_list = soup.find('ul')\n",
    "bars = bar_list.findChildren(\"li\", recursive=False)\n",
    "\n",
    "for i, bar in enumerate(bars):\n",
    "    # Get the name, address and description\n",
    "    bar_name = bar.find('h2', {'class': 'bar_name'}).getText()\n",
    "    phone_number = bar.find('div', {'class': 'text--padded'}).getText()\n",
    "    address = bar.find('div', {'class': 'text'}).getText()\n",
    "    description = bar.find('p', {'class': 'text--padded'}).getText()\n",
    "\n",
    "# Get the opening hours\n",
    "    opening_hours_container = bar.find(\n",
    "        'ul', {'class': 'opening_hours__container'}\n",
    "    )\n",
    "\n",
    "    weekly_opening_hours = opening_hours_container.find_all(\n",
    "        'li', {'class': 'opening_hours__times'}\n",
    "    )\n",
    "\n",
    "    # Loop through the opening hours and store in an array\n",
    "    times = []\n",
    "    for opening_hours in weekly_opening_hours:\n",
    "        day_of_week = opening_hours.find('div', {'class': 'text'}).getText()\n",
    "        hours = opening_hours.find('li', {'class': 'text'}).getText()\n",
    "        times.append(hours)\n",
    "\n",
    "\n",
    "    # Add the data to a data-frame\n",
    "    df.loc[i] = [\n",
    "        bar_name,\n",
    "        address,\n",
    "        phone_number,\n",
    "        description,\n",
    "        times[0],\n",
    "        times[1],\n",
    "        times[2],\n",
    "        times[3],\n",
    "        times[4],\n",
    "        times[5],\n",
    "        times[6]\n",
    "    ]\n",
    "\n",
    "csv_string = 'bar_csvs/bar_list_' + datetime.now().strftime(\"%Y_%m_%d_%H-%M-%S\") + '.csv'\n",
    "df.to_csv(csv_string)"
   ]
  },
  {
   "cell_type": "code",
   "execution_count": null,
   "id": "73ba532e-5532-46ce-8475-d3d02a85afa4",
   "metadata": {},
   "outputs": [],
   "source": []
  }
 ],
 "metadata": {
  "kernelspec": {
   "display_name": "Python 3 (ipykernel)",
   "language": "python",
   "name": "python3"
  },
  "language_info": {
   "codemirror_mode": {
    "name": "ipython",
    "version": 3
   },
   "file_extension": ".py",
   "mimetype": "text/x-python",
   "name": "python",
   "nbconvert_exporter": "python",
   "pygments_lexer": "ipython3",
   "version": "3.11.6"
  }
 },
 "nbformat": 4,
 "nbformat_minor": 5
}
